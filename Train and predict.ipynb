{
 "cells": [
  {
   "cell_type": "code",
   "execution_count": 0,
   "metadata": {
    "application/vnd.databricks.v1+cell": {
     "cellMetadata": {
      "byteLimit": 2048000,
      "rowLimit": 10000
     },
     "inputWidgets": {},
     "nuid": "d7f60f9b-f832-4fbc-8ba1-8b7b2fedf2c7",
     "showTitle": false,
     "tableResultSettingsMap": {},
     "title": ""
    }
   },
   "outputs": [],
   "source": [
    "path= '/mnt/gold/gold/'\n",
    "df = spark.read.format('delta').load(path)"
   ]
  },
  {
   "cell_type": "code",
   "execution_count": 0,
   "metadata": {
    "application/vnd.databricks.v1+cell": {
     "cellMetadata": {
      "byteLimit": 2048000,
      "rowLimit": 10000
     },
     "inputWidgets": {},
     "nuid": "27f74b2f-e417-4a06-aedf-c5640c049839",
     "showTitle": false,
     "tableResultSettingsMap": {},
     "title": ""
    }
   },
   "outputs": [],
   "source": [
    "df_pd = df.toPandas()\n",
    "\n",
    "# Preview the dataset\n",
    "print(df_pd.head())"
   ]
  },
  {
   "cell_type": "markdown",
   "metadata": {
    "application/vnd.databricks.v1+cell": {
     "cellMetadata": {
      "byteLimit": 2048000,
      "rowLimit": 10000
     },
     "inputWidgets": {},
     "nuid": "233f2442-0c57-4ac0-8819-ac88b501cd14",
     "showTitle": false,
     "tableResultSettingsMap": {},
     "title": ""
    }
   },
   "source": [
    "Use a histogram to understand the distribution of the is_injured variable."
   ]
  },
  {
   "cell_type": "code",
   "execution_count": 0,
   "metadata": {
    "application/vnd.databricks.v1+cell": {
     "cellMetadata": {
      "byteLimit": 2048000,
      "rowLimit": 10000
     },
     "inputWidgets": {},
     "nuid": "e87c7190-103f-448f-8330-5316bdd32e7c",
     "showTitle": false,
     "tableResultSettingsMap": {},
     "title": ""
    }
   },
   "outputs": [],
   "source": [
    "import seaborn as sns\n",
    "import matplotlib.pyplot as plt\n",
    "\n",
    "# Plot target distribution\n",
    "sns.countplot(x='is_injured', data=df_pd)\n",
    "plt.title('Distribution of Target Variable (is_injured)')\n",
    "plt.show()\n"
   ]
  },
  {
   "cell_type": "markdown",
   "metadata": {
    "application/vnd.databricks.v1+cell": {
     "cellMetadata": {
      "byteLimit": 2048000,
      "rowLimit": 10000
     },
     "inputWidgets": {},
     "nuid": "39756dd9-dc23-469b-a176-fc267617d182",
     "showTitle": false,
     "tableResultSettingsMap": {},
     "title": ""
    }
   },
   "source": [
    "Correlation Heatmap:\n",
    "Check correlations between features to see how they relate to is_injured.\n"
   ]
  },
  {
   "cell_type": "code",
   "execution_count": 0,
   "metadata": {
    "application/vnd.databricks.v1+cell": {
     "cellMetadata": {
      "byteLimit": 2048000,
      "rowLimit": 10000
     },
     "inputWidgets": {},
     "nuid": "9246756a-4cc3-4aab-b2dc-ef6f4785da5a",
     "showTitle": false,
     "tableResultSettingsMap": {},
     "title": ""
    }
   },
   "outputs": [],
   "source": [
    "import numpy as np\n",
    "\n",
    "# Compute the correlation matrix\n",
    "corr_matrix = df_pd.corr()\n",
    "\n",
    "# Plot the heatmap\n",
    "plt.figure(figsize=(12, 8))\n",
    "sns.heatmap(corr_matrix, annot=True, fmt=\".2f\", cmap=\"coolwarm\", mask=np.triu(corr_matrix))\n",
    "plt.title('Correlation Heatmap')\n",
    "plt.show()\n"
   ]
  },
  {
   "cell_type": "markdown",
   "metadata": {
    "application/vnd.databricks.v1+cell": {
     "cellMetadata": {
      "byteLimit": 2048000,
      "rowLimit": 10000
     },
     "inputWidgets": {},
     "nuid": "bae1c466-42b6-4a20-aff7-33c31b8afd86",
     "showTitle": false,
     "tableResultSettingsMap": {},
     "title": ""
    }
   },
   "source": [
    "Biểu đồ heatmap thể hiện hệ số tương quan giữa các cặp biến, với giá trị dao động từ -1 đến 1:\n",
    "+1: Tương quan dương hoàn hảo (khi một biến tăng thì biến kia cũng tăng theo tỷ lệ tuyến tính).\n",
    "-1: Tương quan âm hoàn hảo (khi một biến tăng thì biến kia giảm theo tỷ lệ tuyến tính).\n",
    "0: Không có tương quan tuyến tính giữa hai biến.\n",
    "\n",
    "Tương quan giữa is_injured và hầu hết các biến khác khá yếu (gần bằng 0), cho thấy không có mối quan hệ tuyến tính mạnh mẽ.\n",
    "Mối tương quan cao nhất là với biến contributing_factor_vehicle_2_encoded (khoảng 0.11), điều này gợi ý rằng biến này có thể có ảnh hưởng nhẹ đến việc dự đoán is_injured.\n",
    "Có tương quan mạnh (0.46) giữa hai biến contributing_factor_vehicle_4_encoded và contributing_factor_vehicle_3_encoded. Điều này cho thấy khả năng đa cộng tuyến (multicollinearity), có thể gây ảnh hưởng tiêu cực đến hiệu suất của mô hình."
   ]
  },
  {
   "cell_type": "markdown",
   "metadata": {
    "application/vnd.databricks.v1+cell": {
     "cellMetadata": {
      "byteLimit": 2048000,
      "rowLimit": 10000
     },
     "inputWidgets": {},
     "nuid": "02768619-0cfa-4cfa-b0c5-619385ca1c32",
     "showTitle": false,
     "tableResultSettingsMap": {},
     "title": ""
    }
   },
   "source": [
    " Box Plots for Key Features"
   ]
  },
  {
   "cell_type": "code",
   "execution_count": 0,
   "metadata": {
    "application/vnd.databricks.v1+cell": {
     "cellMetadata": {
      "byteLimit": 2048000,
      "rowLimit": 10000
     },
     "inputWidgets": {},
     "nuid": "2849e38e-7eec-4ec4-81b6-28c7dea12b9c",
     "showTitle": false,
     "tableResultSettingsMap": {},
     "title": ""
    }
   },
   "outputs": [],
   "source": [
    "features = [\n",
    "    'contributing_factor_vehicle_1_encoded', 'contributing_factor_vehicle_2_encoded',\n",
    "    'vehicle_type_code1_encoded', 'borough_encoded'\n",
    "]\n",
    "\n",
    "# Create box plots\n",
    "plt.figure(figsize=(15, 10))\n",
    "for i, col in enumerate(features, 1):\n",
    "    plt.subplot(2, 2, i)\n",
    "    sns.boxplot(x='is_injured', y=col, data=df_pd)\n",
    "    plt.title(f'Box Plot of {col}')\n",
    "plt.tight_layout()\n",
    "plt.show()\n"
   ]
  },
  {
   "cell_type": "code",
   "execution_count": 0,
   "metadata": {
    "application/vnd.databricks.v1+cell": {
     "cellMetadata": {
      "byteLimit": 2048000,
      "rowLimit": 10000
     },
     "inputWidgets": {},
     "nuid": "e79b9062-0d65-476a-8c9e-6de8f1bf5817",
     "showTitle": false,
     "tableResultSettingsMap": {},
     "title": ""
    }
   },
   "outputs": [],
   "source": [
    "from sklearn.model_selection import train_test_split\n",
    "# Select the required columns and convert to Pandas\n",
    "required_columns = [\n",
    "    'is_injured', 'contributing_factor_vehicle_1_encoded', 'contributing_factor_vehicle_2_encoded',\n",
    "    'contributing_factor_vehicle_3_encoded', 'contributing_factor_vehicle_4_encoded',\n",
    "    'contributing_factor_vehicle_5_encoded', 'vehicle_type_code1_encoded', \n",
    "    'vehicle_type_code2_encoded', 'borough_encoded'\n",
    "]\n",
    "df_pd = df.select(required_columns).toPandas()\n",
    "\n",
    "# Define features and target\n",
    "X = df_pd.drop(columns=['is_injured'])\n",
    "y = df_pd['is_injured']\n",
    "\n",
    "# Split the data\n",
    "X_train, X_test, y_train, y_test = train_test_split(X, y, test_size=0.2, random_state=42)\n"
   ]
  },
  {
   "cell_type": "markdown",
   "metadata": {
    "application/vnd.databricks.v1+cell": {
     "cellMetadata": {
      "byteLimit": 2048000,
      "rowLimit": 10000
     },
     "inputWidgets": {},
     "nuid": "7c1f6674-4a1e-4941-bf67-1cdf728b64d6",
     "showTitle": false,
     "tableResultSettingsMap": {},
     "title": ""
    }
   },
   "source": [
    "Random Forest Model"
   ]
  },
  {
   "cell_type": "code",
   "execution_count": 0,
   "metadata": {
    "application/vnd.databricks.v1+cell": {
     "cellMetadata": {
      "byteLimit": 2048000,
      "rowLimit": 10000
     },
     "inputWidgets": {},
     "nuid": "f86d3616-d7fd-4cf5-887e-cc568f12760d",
     "showTitle": false,
     "tableResultSettingsMap": {},
     "title": ""
    }
   },
   "outputs": [],
   "source": [
    "from sklearn.ensemble import RandomForestClassifier\n",
    "from sklearn.metrics import classification_report\n",
    "\n",
    "# Train Random Forest model\n",
    "rf_model = RandomForestClassifier(random_state=42)\n",
    "rf_model.fit(X_train, y_train)\n",
    "\n",
    "# Predict and evaluate\n",
    "rf_predictions = rf_model.predict(X_test)\n",
    "print(\"Random Forest Model Performance:\")\n",
    "print(classification_report(y_test, rf_predictions))\n"
   ]
  },
  {
   "cell_type": "code",
   "execution_count": 0,
   "metadata": {
    "application/vnd.databricks.v1+cell": {
     "cellMetadata": {
      "byteLimit": 2048000,
      "rowLimit": 10000
     },
     "inputWidgets": {},
     "nuid": "d4f025d3-17d0-4f99-9685-ff77dac681a4",
     "showTitle": false,
     "tableResultSettingsMap": {},
     "title": ""
    }
   },
   "outputs": [],
   "source": [
    "import matplotlib.pyplot as plt\n",
    "import seaborn as sns\n",
    "from sklearn.metrics import confusion_matrix\n",
    "\n",
    "# Generate confusion matrix\n",
    "cm = confusion_matrix(y_test, rf_predictions)\n",
    "\n",
    "# Plot confusion matrix\n",
    "plt.figure(figsize=(6, 4))\n",
    "sns.heatmap(cm, annot=True, fmt='d', cmap='Blues', xticklabels=[\"No Injury\", \"Injury\"], yticklabels=[\"No Injury\", \"Injury\"])\n",
    "plt.title(\"Random Forest Confusion Matrix\")\n",
    "plt.xlabel('Predicted')\n",
    "plt.ylabel('Actual')\n",
    "plt.show()\n"
   ]
  },
  {
   "cell_type": "markdown",
   "metadata": {
    "application/vnd.databricks.v1+cell": {
     "cellMetadata": {
      "byteLimit": 2048000,
      "rowLimit": 10000
     },
     "inputWidgets": {},
     "nuid": "6f48f6d3-c596-4b30-8a16-ab63270d8eac",
     "showTitle": false,
     "tableResultSettingsMap": {},
     "title": ""
    }
   },
   "source": [
    "visualize the importance of each feature in making predictions"
   ]
  },
  {
   "cell_type": "code",
   "execution_count": 0,
   "metadata": {
    "application/vnd.databricks.v1+cell": {
     "cellMetadata": {
      "byteLimit": 2048000,
      "rowLimit": 10000
     },
     "inputWidgets": {},
     "nuid": "c16bd6ea-1068-44aa-bee9-70d8d62548fa",
     "showTitle": false,
     "tableResultSettingsMap": {},
     "title": ""
    }
   },
   "outputs": [],
   "source": [
    "# Get feature importances\n",
    "importances = rf_model.feature_importances_\n",
    "features = X.columns\n",
    "\n",
    "# Create a bar chart for feature importance\n",
    "plt.figure(figsize=(10, 6))\n",
    "plt.barh(features, importances, color='skyblue')\n",
    "plt.xlabel('Importance')\n",
    "plt.title('Feature Importance')\n",
    "plt.show()\n"
   ]
  },
  {
   "cell_type": "markdown",
   "metadata": {
    "application/vnd.databricks.v1+cell": {
     "cellMetadata": {
      "byteLimit": 2048000,
      "rowLimit": 10000
     },
     "inputWidgets": {},
     "nuid": "b503435b-1ddc-4a3c-951c-413ab7f327ef",
     "showTitle": false,
     "tableResultSettingsMap": {},
     "title": ""
    }
   },
   "source": [
    "XGBoost Model\n"
   ]
  },
  {
   "cell_type": "code",
   "execution_count": 0,
   "metadata": {
    "application/vnd.databricks.v1+cell": {
     "cellMetadata": {
      "byteLimit": 2048000,
      "rowLimit": 10000
     },
     "inputWidgets": {},
     "nuid": "4eeae76f-5a48-4ea2-a585-e64b77acdf1b",
     "showTitle": false,
     "tableResultSettingsMap": {},
     "title": ""
    }
   },
   "outputs": [],
   "source": [
    "!pip install xgboost\n"
   ]
  },
  {
   "cell_type": "code",
   "execution_count": 0,
   "metadata": {
    "application/vnd.databricks.v1+cell": {
     "cellMetadata": {
      "byteLimit": 2048000,
      "rowLimit": 10000
     },
     "inputWidgets": {},
     "nuid": "c3f507e2-1eff-492d-bf73-15e957136024",
     "showTitle": false,
     "tableResultSettingsMap": {},
     "title": ""
    }
   },
   "outputs": [],
   "source": [
    "from xgboost import XGBClassifier\n",
    "\n",
    "# Train XGBoost model\n",
    "xgb_model = XGBClassifier(random_state=42)\n",
    "xgb_model.fit(X_train, y_train)\n",
    "\n",
    "# Predict and evaluate\n",
    "xgb_predictions = xgb_model.predict(X_test)\n",
    "print(\"XGBoost Model Performance:\")\n",
    "print(classification_report(y_test, xgb_predictions))\n"
   ]
  },
  {
   "cell_type": "code",
   "execution_count": 0,
   "metadata": {
    "application/vnd.databricks.v1+cell": {
     "cellMetadata": {
      "byteLimit": 2048000,
      "rowLimit": 10000
     },
     "inputWidgets": {},
     "nuid": "5ef09710-48d4-4e08-a203-172c082fbd5e",
     "showTitle": false,
     "tableResultSettingsMap": {},
     "title": ""
    }
   },
   "outputs": [],
   "source": [
    "# Generate confusion matrix for XGBoost\n",
    "xgb_cm = confusion_matrix(y_test, xgb_predictions)\n",
    "\n",
    "# Plot confusion matrix for XGBoost\n",
    "plt.figure(figsize=(6, 4))\n",
    "sns.heatmap(xgb_cm, annot=True, fmt='d', cmap='Blues', xticklabels=[\"No Injury\", \"Injury\"], yticklabels=[\"No Injury\", \"Injury\"])\n",
    "plt.title(\"XGBoost Confusion Matrix\")\n",
    "plt.xlabel('Predicted')\n",
    "plt.ylabel('Actual')\n",
    "plt.show()"
   ]
  },
  {
   "cell_type": "markdown",
   "metadata": {
    "application/vnd.databricks.v1+cell": {
     "cellMetadata": {
      "byteLimit": 2048000,
      "rowLimit": 10000
     },
     "inputWidgets": {},
     "nuid": "81031139-b867-46e7-9df0-22ab72434d43",
     "showTitle": false,
     "tableResultSettingsMap": {},
     "title": ""
    }
   },
   "source": [
    " Feature Importance"
   ]
  },
  {
   "cell_type": "code",
   "execution_count": 0,
   "metadata": {
    "application/vnd.databricks.v1+cell": {
     "cellMetadata": {
      "byteLimit": 2048000,
      "rowLimit": 10000
     },
     "inputWidgets": {},
     "nuid": "09c0d8d4-33e8-42a3-aa54-1b07621872fa",
     "showTitle": false,
     "tableResultSettingsMap": {},
     "title": ""
    }
   },
   "outputs": [],
   "source": [
    "# Get feature importance from XGBoost model\n",
    "xgb_importances = xgb_model.feature_importances_\n",
    "features = X.columns\n",
    "\n",
    "# Create a bar chart for feature importance from XGBoost\n",
    "plt.figure(figsize=(10, 6))\n",
    "plt.barh(features, xgb_importances, color='skyblue')\n",
    "plt.xlabel('Importance')\n",
    "plt.title('Feature Importance (XGBoost)')\n",
    "plt.show()\n"
   ]
  },
  {
   "cell_type": "markdown",
   "metadata": {
    "application/vnd.databricks.v1+cell": {
     "cellMetadata": {
      "byteLimit": 2048000,
      "rowLimit": 10000
     },
     "inputWidgets": {},
     "nuid": "7e7309b8-2772-408d-9f4f-cd47c2a23559",
     "showTitle": false,
     "tableResultSettingsMap": {},
     "title": ""
    }
   },
   "source": [
    "Evaluate and Compare Results"
   ]
  },
  {
   "cell_type": "code",
   "execution_count": 0,
   "metadata": {
    "application/vnd.databricks.v1+cell": {
     "cellMetadata": {
      "byteLimit": 2048000,
      "rowLimit": 10000
     },
     "inputWidgets": {},
     "nuid": "cf901631-10a8-410d-b2a1-e72fd182100d",
     "showTitle": false,
     "tableResultSettingsMap": {},
     "title": ""
    }
   },
   "outputs": [],
   "source": [
    "import pandas as pd\n",
    "import matplotlib.pyplot as plt\n",
    "import seaborn as sns\n",
    "\n",
    "# Store performance metrics for both models\n",
    "model_comparison_metrics = {\n",
    "    'Model': ['Random Forest', 'XGBoost'],\n",
    "    'Accuracy': [accuracy_score(y_test, rf_predictions), xgb_accuracy],\n",
    "    'Precision': [precision_score(y_test, rf_predictions), xgb_precision],\n",
    "    'Recall': [recall_score(y_test, rf_predictions), xgb_recall],\n",
    "    'F1 Score': [f1_score(y_test, rf_predictions), xgb_f1]\n",
    "}\n",
    "\n",
    "# Convert to DataFrame for easier plotting\n",
    "comparison_df = pd.DataFrame(model_comparison_metrics)\n",
    "\n",
    "# Plot model comparison\n",
    "ax = comparison_df.set_index('Model').plot(kind='bar', figsize=(10, 6), colormap='viridis')\n",
    "\n",
    "# Add metric values on top of the bars\n",
    "for p in ax.patches:\n",
    "    height = p.get_height()\n",
    "    ax.annotate(f'{height:.2f}', \n",
    "                xy=(p.get_x() + p.get_width() / 2, height), \n",
    "                xytext=(0, 8),  # 8 points vertical offset\n",
    "                textcoords='offset points', \n",
    "                ha='center', va='bottom', fontsize=10, color='black')\n",
    "\n",
    "plt.title('Random Forest vs XGBoost Performance Comparison')\n",
    "plt.ylabel('Score')\n",
    "plt.xticks(rotation=0)\n",
    "plt.tight_layout()\n",
    "plt.show()\n"
   ]
  },
  {
   "cell_type": "markdown",
   "metadata": {
    "application/vnd.databricks.v1+cell": {
     "cellMetadata": {
      "byteLimit": 2048000,
      "rowLimit": 10000
     },
     "inputWidgets": {},
     "nuid": "4d719c8b-6bf8-45a0-9df2-12aae7a17c3a",
     "showTitle": false,
     "tableResultSettingsMap": {},
     "title": ""
    }
   },
   "source": [
    "ROC Curve Comparison\n"
   ]
  },
  {
   "cell_type": "code",
   "execution_count": 0,
   "metadata": {
    "application/vnd.databricks.v1+cell": {
     "cellMetadata": {
      "byteLimit": 2048000,
      "rowLimit": 10000
     },
     "inputWidgets": {},
     "nuid": "b9f065a4-7c8d-4d7a-ac99-6b118eef0fa5",
     "showTitle": false,
     "tableResultSettingsMap": {},
     "title": ""
    }
   },
   "outputs": [],
   "source": [
    "from sklearn.metrics import roc_curve, auc\n",
    "\n",
    "# Function to plot ROC Curve for any model\n",
    "def plot_roc_curve(model, X_test, y_test, label):\n",
    "    fpr, tpr, thresholds = roc_curve(y_test, model.predict_proba(X_test)[:, 1])\n",
    "    roc_auc = auc(fpr, tpr)\n",
    "    plt.plot(fpr, tpr, label=f'{label} (AUC = {roc_auc:.2f})')\n",
    "\n",
    "# Plot ROC for Random Forest\n",
    "plt.figure(figsize=(8, 6))\n",
    "plot_roc_curve(rf_model, X_test, y_test, 'Random Forest')\n",
    "\n",
    "# Plot ROC for XGBoost\n",
    "plot_roc_curve(xgb_model, X_test, y_test, 'XGBoost')\n",
    "\n",
    "# Plot random classifier line\n",
    "plt.plot([0, 1], [0, 1], color='navy', linestyle='--')\n",
    "\n",
    "plt.xlabel('False Positive Rate')\n",
    "plt.ylabel('True Positive Rate')\n",
    "plt.title('ROC Curve Comparison: Random Forest vs XGBoost')\n",
    "plt.legend(loc='lower right')\n",
    "plt.show()\n"
   ]
  },
  {
   "cell_type": "markdown",
   "metadata": {
    "application/vnd.databricks.v1+cell": {
     "cellMetadata": {
      "byteLimit": 2048000,
      "rowLimit": 10000
     },
     "inputWidgets": {},
     "nuid": "aedd8add-dd0c-4488-a6fd-6788d5451753",
     "showTitle": false,
     "tableResultSettingsMap": {},
     "title": ""
    }
   },
   "source": [
    "AUC > 0.5 and < 1: The model has some ability to distinguish between positive and negative classes. The higher the AUC, the better the model."
   ]
  },
  {
   "cell_type": "markdown",
   "metadata": {
    "application/vnd.databricks.v1+cell": {
     "cellMetadata": {
      "byteLimit": 2048000,
      "rowLimit": 10000
     },
     "inputWidgets": {},
     "nuid": "dadaf5a7-65b8-46b8-89c3-7b8b7870bd31",
     "showTitle": false,
     "tableResultSettingsMap": {},
     "title": ""
    }
   },
   "source": [
    "Save the Models"
   ]
  },
  {
   "cell_type": "code",
   "execution_count": 0,
   "metadata": {
    "application/vnd.databricks.v1+cell": {
     "cellMetadata": {
      "byteLimit": 2048000,
      "rowLimit": 10000
     },
     "inputWidgets": {},
     "nuid": "7b08f7d0-e34a-47e4-bf8d-1b983865cde9",
     "showTitle": false,
     "tableResultSettingsMap": {},
     "title": ""
    }
   },
   "outputs": [],
   "source": [
    "import joblib\n",
    "\n",
    "# Save Random Forest model\n",
    "joblib.dump(rf_model, 'random_forest_model.pkl')\n",
    "\n",
    "# Save XGBoost model\n",
    "joblib.dump(xgb_model, 'xgboost_model.pkl')\n",
    "\n",
    "print(\"Models saved successfully!\")\n",
    "\n"
   ]
  }
 ],
 "metadata": {
  "application/vnd.databricks.v1+notebook": {
   "dashboards": [],
   "environmentMetadata": {
    "base_environment": "",
    "client": "1"
   },
   "language": "python",
   "notebookMetadata": {
    "pythonIndentUnit": 4
   },
   "notebookName": "Train and predict",
   "widgets": {}
  },
  "language_info": {
   "name": "python"
  }
 },
 "nbformat": 4,
 "nbformat_minor": 0
}
